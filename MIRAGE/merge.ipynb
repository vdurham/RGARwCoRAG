{
 "cells": [
  {
   "cell_type": "code",
   "execution_count": null,
   "metadata": {},
   "outputs": [],
   "source": [
    "import json\n",
    "\n",
    "def add_to_benchmark(benchmark_file, transformed_file):\n",
    "    try:\n",
    "        with open(benchmark_file, 'r') as bf:\n",
    "            benchmark_data = json.load(bf)\n",
    "    except FileNotFoundError:\n",
    "        benchmark_data = {}\n",
    "\n",
    "    with open(transformed_file, 'r') as tf:\n",
    "        transformed_data = json.load(tf)\n",
    "\n",
    "    benchmark_data[\"ehrnoteqa\"] = transformed_data\n",
    "\n",
    "    with open(benchmark_file, 'w') as bf:\n",
    "        json.dump(benchmark_data, bf, indent=4, ensure_ascii=False)\n",
    "\n",
    "add_to_benchmark(\"benchmark.json\", \"EHRNoteQA_transformed.json\")\n"
   ]
  }
 ],
 "metadata": {
  "kernelspec": {
   "display_name": "rag",
   "language": "python",
   "name": "python3"
  },
  "language_info": {
   "codemirror_mode": {
    "name": "ipython",
    "version": 3
   },
   "file_extension": ".py",
   "mimetype": "text/x-python",
   "name": "python",
   "nbconvert_exporter": "python",
   "pygments_lexer": "ipython3",
   "version": "3.11.11"
  }
 },
 "nbformat": 4,
 "nbformat_minor": 2
}
