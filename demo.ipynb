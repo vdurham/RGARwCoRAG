{
 "cells": [
  {
   "cell_type": "code",
   "execution_count": 1,
   "metadata": {},
   "outputs": [],
   "source": [
    "import json\n",
    "import os\n",
    "import re\n",
    "import json\n",
    "import torch\n",
    "from src.RGAR import RGAR\n",
    "class QADataset:\n",
    "\n",
    "    def __init__(self, data, dir=\".\"):\n",
    "        self.data = data.lower().split(\"_\")[0]\n",
    "        benchmark = json.load(open(os.path.join(dir, \"benchmark.json\")))\n",
    "        if self.data not in benchmark:\n",
    "            raise KeyError(\"{:s} not supported\".format(data))\n",
    "        self.dataset = benchmark[self.data]\n",
    "        self.index = sorted(self.dataset.keys())\n",
    "\n",
    "    def __len__(self):\n",
    "        return len(self.dataset)\n",
    "    \n",
    "    def __getitem__(self, key):\n",
    "        if type(key) == int:\n",
    "            return self.dataset[self.index[key]]\n",
    "        elif type(key) == slice:\n",
    "            return [self.__getitem__(i) for i in range(self.__len__())[key]]\n",
    "        else:\n",
    "            raise KeyError(\"Key type not supported.\")"
   ]
  },
  {
   "cell_type": "code",
   "execution_count": 2,
   "metadata": {},
   "outputs": [],
   "source": [
    "dataset_name = \"medqa\"\n",
    "dataset = QADataset(dataset_name,dir=\"MIRAGE\")"
   ]
  },
  {
   "cell_type": "code",
   "execution_count": null,
   "metadata": {},
   "outputs": [],
   "source": [
    "debug_idx = 3\n",
    "data = dataset[debug_idx]\n",
    "question = data[\"question\"]\n",
    "options = data[\"options\"]\n",
    "correct_answer = data[\"answer\"]\n",
    "\n",
    "# 打印调试信息\n",
    "print(f\"Debugging Question {debug_idx + 1}:\")\n",
    "print(f\"Question: {question}\")\n",
    "print(f\"Options: {options}\")\n",
    "print(f\"Correct Answer: {correct_answer}\")"
   ]
  },
  {
   "cell_type": "code",
   "execution_count": null,
   "metadata": {},
   "outputs": [],
   "source": [
    "custom = RGAR(\n",
    "        llm_name=\"meta-llama/Llama-3.2-3B-Instruct\", \n",
    "        retriever_name=\"MedCPT\", \n",
    "        corpus_name=\"Textbooks\", \n",
    "        device=\"cuda:0\",\n",
    "        cot=False,\n",
    "        rag=False\n",
    "    )"
   ]
  },
  {
   "cell_type": "code",
   "execution_count": null,
   "metadata": {},
   "outputs": [],
   "source": [
    "custom.answer(question, options)"
   ]
  },
  {
   "cell_type": "code",
   "execution_count": null,
   "metadata": {},
   "outputs": [],
   "source": [
    "torch.cuda.empty_cache()\n",
    "cot = RGAR(\n",
    "        llm_name=\"meta-llama/Llama-3.2-3B-Instruct\", \n",
    "        retriever_name=\"MedCPT\", \n",
    "        corpus_name=\"Textbooks\", \n",
    "        device=\"cuda:0\",\n",
    "        cot=True,\n",
    "        rag=False\n",
    "    )\n",
    "cot.answer(question, options)"
   ]
  },
  {
   "cell_type": "code",
   "execution_count": null,
   "metadata": {},
   "outputs": [],
   "source": [
    "torch.cuda.empty_cache()\n",
    "rag = RGAR(\n",
    "        llm_name=\"meta-llama/Llama-3.2-3B-Instruct\", \n",
    "        retriever_name=\"MedCPT\", \n",
    "        corpus_name=\"Textbooks\", \n",
    "        device=\"cuda:0\",\n",
    "        cot=False,\n",
    "        rag=True\n",
    "    )\n",
    "rag.answer(question, options)"
   ]
  },
  {
   "cell_type": "code",
   "execution_count": null,
   "metadata": {},
   "outputs": [],
   "source": [
    "torch.cuda.empty_cache()\n",
    "medrag = RGAR(\n",
    "        llm_name=\"meta-llama/Llama-3.2-3B-Instruct\", \n",
    "        retriever_name=\"MedCPT\", \n",
    "        corpus_name=\"Textbooks\", \n",
    "        device=\"cuda:0\",\n",
    "        cot=True,\n",
    "        rag=True\n",
    "    )\n",
    "medrag.answer(question, options)"
   ]
  },
  {
   "cell_type": "code",
   "execution_count": null,
   "metadata": {},
   "outputs": [],
   "source": [
    "torch.cuda.empty_cache()\n",
    "gar = RGAR(\n",
    "        llm_name=\"meta-llama/Llama-3.2-3B-Instruct\", \n",
    "        retriever_name=\"MedCPT\", \n",
    "        corpus_name=\"Textbooks\", \n",
    "        device=\"cuda:0\",\n",
    "        cot=False,\n",
    "        rag=True,\n",
    "        me=1\n",
    "    )\n",
    "gar.answer(question, options)"
   ]
  },
  {
   "cell_type": "code",
   "execution_count": null,
   "metadata": {},
   "outputs": [],
   "source": [
    "torch.cuda.empty_cache()\n",
    "rgar = RGAR(\n",
    "        llm_name=\"meta-llama/Llama-3.2-3B-Instruct\", \n",
    "        retriever_name=\"MedCPT\", \n",
    "        corpus_name=\"Textbooks\", \n",
    "        device=\"cuda:0\",\n",
    "        cot=False,\n",
    "        rag=True,\n",
    "        me=2\n",
    "    )\n",
    "rgar.answer(question, options)"
   ]
  }
 ],
 "metadata": {
  "kernelspec": {
   "display_name": "rag",
   "language": "python",
   "name": "python3"
  },
  "language_info": {
   "codemirror_mode": {
    "name": "ipython",
    "version": 3
   },
   "file_extension": ".py",
   "mimetype": "text/x-python",
   "name": "python",
   "nbconvert_exporter": "python",
   "pygments_lexer": "ipython3",
   "version": "3.11.11"
  }
 },
 "nbformat": 4,
 "nbformat_minor": 2
}
